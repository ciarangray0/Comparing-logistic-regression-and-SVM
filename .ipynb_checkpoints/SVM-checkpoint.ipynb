{
 "cells": [
  {
   "cell_type": "code",
   "execution_count": null,
   "id": "initial_id",
   "metadata": {
    "collapsed": true
   },
   "outputs": [],
   "source": [
    "In this worked notebook file,the SVM algorithm is applied to a dataset called wildfires.\n",
    "\n",
    "The dataset has already been split into two different sets: one for training (wildfires_training.csv) and one for testing (wildfires_test.csv)\n",
    "\n",
    "The dependent variable that we are trying to predict is fire, which can be one of 2 classes: yes or no.\n"
   ]
  },
  {
   "metadata": {
    "jupyter": {
     "is_executing": true
    }
   },
   "cell_type": "code",
   "source": [
    "import pandas as pd\n",
    "\n",
    "# details for beer dataset\n",
    "training_file = \"wildfires_training.csv\"\n",
    "test_file = \"wildfires_test.csv\"\n",
    "independent_cols = [\"year\", \"temp\", \"humidity\", \"rainfall\", \"drought_code\", \"buildup_index\", \"day\", \"month\", \"wind_speed\"]\n",
    "\n",
    "dependent_col = \"fire\"\n",
    "\n",
    "# Here we load our training dataset in from the training file using the pandas library\n",
    "df_training = pd.read_csv(training_file)\n",
    "print(df_training.head())\n",
    "print(df_training.shape)"
   ],
   "id": "e5e7fc021d5d685f",
   "outputs": [],
   "execution_count": null
  }
 ],
 "metadata": {
  "kernelspec": {
   "display_name": "Python 3",
   "language": "python",
   "name": "python3"
  },
  "language_info": {
   "codemirror_mode": {
    "name": "ipython",
    "version": 2
   },
   "file_extension": ".py",
   "mimetype": "text/x-python",
   "name": "python",
   "nbconvert_exporter": "python",
   "pygments_lexer": "ipython2",
   "version": "2.7.6"
  }
 },
 "nbformat": 4,
 "nbformat_minor": 5
}
