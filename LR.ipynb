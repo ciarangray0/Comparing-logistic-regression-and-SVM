{
 "cells": [
  {
   "metadata": {},
   "cell_type": "markdown",
   "source": [
    "In this worked notebook file,the Logistic Regression algorithm is applied to a dataset called wildfires.\n",
    "\n",
    "The dataset has already been split into two different sets: one for training (wildfires_training.csv) and one for testing (wildfires_test.csv)\n",
    "\n",
    "The dependent variable that we are trying to predict is fire, which can be one of 2 classes: yes or no."
   ],
   "id": "b63c73228a9f5b43"
  },
  {
   "metadata": {
    "ExecuteTime": {
     "end_time": "2025-10-08T19:50:55.161138Z",
     "start_time": "2025-10-08T19:50:54.029335Z"
    }
   },
   "cell_type": "code",
   "source": [
    "import pandas as pd\n",
    "\n",
    "# details for beer dataset\n",
    "training_file = \"wildfires_training.csv\"\n",
    "test_file = \"wildfires_test.csv\"\n",
    "independent_cols = [\"year\", \"temp\", \"humidity\", \"rainfall\", \"drought_code\", \"buildup_index\", \"day\", \"month\", \"wind_speed\"]\n",
    "\n",
    "dependent_col = \"fire\"\n",
    "\n",
    "# Here we load our training dataset in from the training file using the pandas library\n",
    "df_training = pd.read_csv(training_file)\n",
    "print(df_training.head())\n",
    "print(df_training.shape)"
   ],
   "id": "e5e7fc021d5d685f",
   "outputs": [
    {
     "name": "stdout",
     "output_type": "stream",
     "text": [
      "  fire  year  temp  humidity  rainfall  drought_code  buildup_index  day  \\\n",
      "0   no  2015    28        59       0.0          8.06           3.47    1   \n",
      "1   no  2010    30        61       1.3          8.17           4.03    2   \n",
      "2   no  2009    26        83      13.1          8.08           3.59    3   \n",
      "3   no  2017    25        87       2.5          7.18           2.42    4   \n",
      "4   no  2014    28        77       0.0         14.98           4.63    5   \n",
      "\n",
      "   month  wind_speed  \n",
      "0      6          19  \n",
      "1      6          13  \n",
      "2      6          22  \n",
      "3      6          15  \n",
      "4      6          18  \n",
      "(154, 10)\n"
     ]
    }
   ],
   "execution_count": 1
  },
  {
   "metadata": {
    "ExecuteTime": {
     "end_time": "2025-10-08T19:51:03.332940Z",
     "start_time": "2025-10-08T19:51:03.327953Z"
    }
   },
   "cell_type": "code",
   "source": [
    "# set up a matrix X containing the independent variables from the training data\n",
    "X_training = df_training.loc[:,independent_cols]\n",
    "print(X_training.head())\n",
    "print(X_training.shape)"
   ],
   "id": "bfa3233e2de44c8",
   "outputs": [
    {
     "name": "stdout",
     "output_type": "stream",
     "text": [
      "   year  temp  humidity  rainfall  drought_code  buildup_index  day  month  \\\n",
      "0  2015    28        59       0.0          8.06           3.47    1      6   \n",
      "1  2010    30        61       1.3          8.17           4.03    2      6   \n",
      "2  2009    26        83      13.1          8.08           3.59    3      6   \n",
      "3  2017    25        87       2.5          7.18           2.42    4      6   \n",
      "4  2014    28        77       0.0         14.98           4.63    5      6   \n",
      "\n",
      "   wind_speed  \n",
      "0          19  \n",
      "1          13  \n",
      "2          22  \n",
      "3          15  \n",
      "4          18  \n",
      "(154, 9)\n"
     ]
    }
   ],
   "execution_count": 2
  },
  {
   "metadata": {
    "ExecuteTime": {
     "end_time": "2025-10-08T19:51:24.187296Z",
     "start_time": "2025-10-08T19:51:24.183860Z"
    }
   },
   "cell_type": "code",
   "source": [
    "# Set up a vector y containing the dependent variable / target attribute for the training data\n",
    "y_training = df_training.loc[:,dependent_col]\n",
    "print(y_training.head())\n",
    "print(y_training.shape)"
   ],
   "id": "4c6008f1ec2d3166",
   "outputs": [
    {
     "name": "stdout",
     "output_type": "stream",
     "text": [
      "0    no\n",
      "1    no\n",
      "2    no\n",
      "3    no\n",
      "4    no\n",
      "Name: fire, dtype: object\n",
      "(154,)\n"
     ]
    }
   ],
   "execution_count": 4
  },
  {
   "metadata": {
    "ExecuteTime": {
     "end_time": "2025-10-08T19:51:35.245657Z",
     "start_time": "2025-10-08T19:51:35.238966Z"
    }
   },
   "cell_type": "code",
   "source": [
    "# Next we load our test dataset in from the file iris_test.csv\n",
    "df_test = pd.read_csv(test_file)\n",
    "print(df_test.head())\n",
    "print(df_test.shape)"
   ],
   "id": "ab1031a8c2d9a447",
   "outputs": [
    {
     "name": "stdout",
     "output_type": "stream",
     "text": [
      "  fire  year  temp  humidity  rainfall  drought_code  buildup_index  day  \\\n",
      "0   no  2015    33        68       4.5          9.12           5.09   19   \n",
      "1  yes  2009    28        56       0.0         38.17          21.21   12   \n",
      "2   no  2017    30        64       0.6         15.38           6.24   24   \n",
      "3   no  2007    23        74       8.3          7.36           2.27   14   \n",
      "4   no  2017    31        72       0.3         30.47           5.63    7   \n",
      "\n",
      "   month  wind_speed  \n",
      "0      6          16  \n",
      "1      6          18  \n",
      "2      9          19  \n",
      "3      9          28  \n",
      "4      9          17  \n",
      "(50, 10)\n"
     ]
    }
   ],
   "execution_count": 5
  },
  {
   "metadata": {
    "ExecuteTime": {
     "end_time": "2025-10-08T19:52:07.824910Z",
     "start_time": "2025-10-08T19:52:07.818353Z"
    }
   },
   "cell_type": "code",
   "source": [
    "# set up a matrix X containing the independent variables from the test data\n",
    "X_test = df_test.loc[:,independent_cols]\n",
    "print(X_test.head())\n",
    "print(X_test.shape)"
   ],
   "id": "5118adc99eccca3c",
   "outputs": [
    {
     "name": "stdout",
     "output_type": "stream",
     "text": [
      "   year  temp  humidity  rainfall  drought_code  buildup_index  day  month  \\\n",
      "0  2015    33        68       4.5          9.12           5.09   19      6   \n",
      "1  2009    28        56       0.0         38.17          21.21   12      6   \n",
      "2  2017    30        64       0.6         15.38           6.24   24      9   \n",
      "3  2007    23        74       8.3          7.36           2.27   14      9   \n",
      "4  2017    31        72       0.3         30.47           5.63    7      9   \n",
      "\n",
      "   wind_speed  \n",
      "0          16  \n",
      "1          18  \n",
      "2          19  \n",
      "3          28  \n",
      "4          17  \n",
      "(50, 9)\n"
     ]
    }
   ],
   "execution_count": 7
  },
  {
   "metadata": {
    "ExecuteTime": {
     "end_time": "2025-10-08T19:52:10.794770Z",
     "start_time": "2025-10-08T19:52:10.790653Z"
    }
   },
   "cell_type": "code",
   "source": [
    "# Set up a vector y containing the dependent variable / target attribute for the training data\n",
    "y_test = df_test.loc[:,dependent_col]\n",
    "print(y_test.head())\n",
    "print(y_test.shape)"
   ],
   "id": "65f55ab0b1db86dc",
   "outputs": [
    {
     "name": "stdout",
     "output_type": "stream",
     "text": [
      "0     no\n",
      "1    yes\n",
      "2     no\n",
      "3     no\n",
      "4     no\n",
      "Name: fire, dtype: object\n",
      "(50,)\n"
     ]
    }
   ],
   "execution_count": 8
  },
  {
   "metadata": {},
   "cell_type": "markdown",
   "source": "No hyperparameter tuning, default skikit-learn implementation",
   "id": "b8e5a363102b639"
  },
  {
   "metadata": {
    "ExecuteTime": {
     "end_time": "2025-10-08T19:54:39.934625Z",
     "start_time": "2025-10-08T19:54:39.911889Z"
    }
   },
   "cell_type": "code",
   "source": [
    "from sklearn import metrics\n",
    "from sklearn.linear_model import LogisticRegression\n",
    "\n",
    "# create a logistic regression model using default settings\n",
    "#set max_iter to 100 to allow the model to converge properly\n",
    "model = LogisticRegression(max_iter=1000)\n",
    "model.fit(X_training, y_training)\n",
    "\n",
    "# compute predictions for training and test sets\n",
    "predictions_training = model.predict(X_training)\n",
    "predictions_test = model.predict(X_test)\n",
    "\n",
    "# compute accuracy for training and test sets\n",
    "accuracy_training = metrics.accuracy_score(y_training, predictions_training)\n",
    "accuracy_test = metrics.accuracy_score(y_test, predictions_test)\n",
    "\n",
    "print(\"Accuracy on training data:\", accuracy_training)\n",
    "print(\"Accuracy on test data:\", accuracy_test)"
   ],
   "id": "5d56b814406b3a6d",
   "outputs": [
    {
     "name": "stdout",
     "output_type": "stream",
     "text": [
      "Accuracy on training data: 0.9090909090909091\n",
      "Accuracy on test data: 0.9\n"
     ]
    }
   ],
   "execution_count": 13
  },
  {
   "metadata": {
    "ExecuteTime": {
     "end_time": "2025-10-08T20:07:03.414538Z",
     "start_time": "2025-10-08T20:07:03.307123Z"
    }
   },
   "cell_type": "code",
   "source": [
    "# Now let's evaluate the effect of using different C values\n",
    "\n",
    "c_values =[0.0001, 0.001, 0.01, 0.1, 1, 10, 100, 1000]\n",
    "print(\"C-values\", c_values)\n",
    "\n",
    "accuracy_training_c = []\n",
    "accuracy_test_c = []\n",
    "for c in c_values:\n",
    "    model_c = LogisticRegression(C=c, max_iter=1000)\n",
    "    model_c.fit(X_training, y_training)\n",
    "\n",
    "    # compute the predictions for the training and test sets\n",
    "    predictions_training_c = model_c.predict(X_training)\n",
    "    predictions_test_c = model_c.predict(X_test)\n",
    "\n",
    "    # compute the accuracy on the training and test set predictions\n",
    "    accuracy_training_c.append(metrics.accuracy_score(y_training, predictions_training_c))\n",
    "    accuracy_test_c.append(metrics.accuracy_score(y_test, predictions_test_c))\n",
    "\n",
    "print(\"Accuracy on training data with different C values 0.0001 - 10000\", accuracy_training_c)\n",
    "print(\"Accuracy on test data with different C values 0.0001 - 10000\", accuracy_test_c)"
   ],
   "id": "7760a14a18daa960",
   "outputs": [
    {
     "name": "stdout",
     "output_type": "stream",
     "text": [
      "C-values [0.0001, 0.001, 0.01, 0.1, 1, 10, 100, 1000]\n",
      "Accuracy on training data with different C values 0.0001 - 10000 [0.8701298701298701, 0.8636363636363636, 0.8831168831168831, 0.8961038961038961, 0.9090909090909091, 0.922077922077922, 0.9285714285714286, 0.922077922077922]\n",
      "Accuracy on test data with different C values 0.0001 - 10000 [0.78, 0.82, 0.84, 0.82, 0.9, 0.88, 0.86, 0.88]\n"
     ]
    }
   ],
   "execution_count": 18
  },
  {
   "metadata": {},
   "cell_type": "markdown",
   "source": "I can see here that the model has it's highest accuragy at the default value, c=1. now I'll try narrow down c-values around 1.",
   "id": "ce12109f4dbaf327"
  },
  {
   "metadata": {
    "ExecuteTime": {
     "end_time": "2025-10-08T20:10:10.714940Z",
     "start_time": "2025-10-08T20:10:10.370841Z"
    }
   },
   "cell_type": "code",
   "source": [
    "c_values_close_to_one =[0.75, 0.8, 0.85, 0.9, 0.95, 1, 1.05, 1.1, 1.15, 1.2, 1.25, 1.5, 2, 3, 5, 7, 8]\n",
    "print(\"C-values\", c_values_close_to_one)\n",
    "\n",
    "accuracy_training_c_one = []\n",
    "accuracy_test_c_one = []\n",
    "for c in c_values_close_to_one:\n",
    "    model_c_one = LogisticRegression(C=c, max_iter=1000)\n",
    "    model_c_one.fit(X_training, y_training)\n",
    "\n",
    "    # compute the predictions for the training and test sets\n",
    "    predictions_training_c_one = model_c_one.predict(X_training)\n",
    "    predictions_test_c_one = model_c_one.predict(X_test)\n",
    "\n",
    "    # compute the accuracy on the training and test set predictions\n",
    "    accuracy_training_c_one.append(metrics.accuracy_score(y_training, predictions_training_c_one))\n",
    "    accuracy_test_c_one.append(metrics.accuracy_score(y_test, predictions_test_c_one))\n",
    "\n",
    "print(\"Accuracy on training data with different C values 0.1 - 10\", accuracy_training_c_one)\n",
    "print(\"Accuracy on test data with different C values 0.1 - 10\", accuracy_test_c_one)"
   ],
   "id": "cef740ac6a9c6d2d",
   "outputs": [
    {
     "name": "stdout",
     "output_type": "stream",
     "text": [
      "C-values [0.75, 0.8, 0.85, 0.9, 0.95, 1, 1.05, 1.1, 1.15, 1.2, 1.25, 1.5, 2, 3, 5, 7, 8, 9, 10]\n",
      "Accuracy on training data with different C values 0.1 - 10 [0.9025974025974026, 0.9025974025974026, 0.9025974025974026, 0.9090909090909091, 0.9090909090909091, 0.9090909090909091, 0.9090909090909091, 0.9090909090909091, 0.9090909090909091, 0.9090909090909091, 0.9090909090909091, 0.9155844155844156, 0.9155844155844156, 0.9155844155844156, 0.922077922077922, 0.922077922077922, 0.922077922077922, 0.922077922077922, 0.922077922077922]\n",
      "Accuracy on test data with different C values 0.1 - 10 [0.88, 0.88, 0.88, 0.88, 0.88, 0.9, 0.9, 0.9, 0.9, 0.9, 0.9, 0.9, 0.9, 0.9, 0.9, 0.9, 0.9, 0.88, 0.88]\n"
     ]
    }
   ],
   "execution_count": 21
  },
  {
   "metadata": {
    "ExecuteTime": {
     "end_time": "2025-10-08T20:12:41.475726Z",
     "start_time": "2025-10-08T20:12:41.424314Z"
    }
   },
   "cell_type": "code",
   "source": [
    "# let's plot the accuracy on the training and test set\n",
    "import matplotlib.pyplot as plt\n",
    "\n",
    "# Make indices for plotting\n",
    "x_positions = range(len(c_values))\n",
    "\n",
    "plt.scatter(x_positions, accuracy_training_c, marker=\"x\", label=\"Training\")\n",
    "plt.scatter(x_positions, accuracy_test_c, marker=\"+\", label=\"Test\")\n",
    "\n",
    "# Replace numeric ticks with the actual C values\n",
    "plt.xticks(x_positions, c_values, rotation=45)\n",
    "\n",
    "plt.ylim([0.0, 1.1])\n",
    "plt.xlabel(\"Value of C\")\n",
    "plt.ylabel(\"Accuracy\")\n",
    "plt.legend(loc=4, borderpad=1)\n",
    "plt.title(\"Effect of C on training and test set accuracy\", fontsize=10)\n",
    "plt.show()"
   ],
   "id": "47344f8fbb665d29",
   "outputs": [
    {
     "data": {
      "text/plain": [
       "<Figure size 640x480 with 1 Axes>"
      ],
      "image/png": "[encoded data removed]"
     },
     "metadata": {},
     "output_type": "display_data"
    }
   ],
   "execution_count": 23
  },
  {
   "metadata": {
    "ExecuteTime": {
     "end_time": "2025-10-08T20:41:53.640502Z",
     "start_time": "2025-10-08T20:41:52.810839Z"
    }
   },
   "cell_type": "code",
   "source": [
    "from sklearn.linear_model import LogisticRegression\n",
    "from sklearn import metrics\n",
    "\n",
    "penalty_values = [\"l1\", \"l2\", \"elasticnet\", None]\n",
    "\n",
    "accuracy_training_c_pen = []\n",
    "accuracy_test_c_pen = []\n",
    "\n",
    "for p in penalty_values:\n",
    "    acc_train = []\n",
    "    acc_test = []\n",
    "    for c in c_values:\n",
    "        if p == \"l1\":\n",
    "            solver = \"liblinear\"   # l1 works with liblinear or saga\n",
    "            model_c_pen = LogisticRegression(C=c, penalty=p, solver=solver, max_iter=10000)\n",
    "        elif p == \"elasticnet\":\n",
    "            solver = \"saga\"\n",
    "            model_c_pen = LogisticRegression(C=c, penalty=p, solver=solver, max_iter=10000, l1_ratio=0.5)\n",
    "        else:  # \"l2\" or \"none\"\n",
    "            solver = \"lbfgs\"\n",
    "            model_c_pen = LogisticRegression(C=c, penalty=p, solver=solver, max_iter=10000)\n",
    "\n",
    "        model_c_pen.fit(X_training, y_training)\n",
    "        predictions_train_c_pen = model_c_pen.predict(X_training)\n",
    "        predictions_test_c_pen = model_c_pen.predict(X_test)\n",
    "\n",
    "        acc_train.append(metrics.accuracy_score(y_training, predictions_train_c_pen))\n",
    "        acc_test.append(metrics.accuracy_score(y_test, predictions_test_c_pen))\n",
    "\n",
    "    accuracy_training_c_pen.append(acc_train)\n",
    "    accuracy_test_c_pen.append(acc_test)\n",
    "\n",
    "print(\"Training accuracies (per penalty):\", accuracy_training_c_pen)\n",
    "print(\"Test accuracies (per penalty):\", accuracy_test_c_pen)\n",
    "\n"
   ],
   "id": "33811ec89dc3c545",
   "outputs": [
    {
     "name": "stdout",
     "output_type": "stream",
     "text": [
      "Training accuracies (per penalty): [[0.487012987012987, 0.8051948051948052, 0.8636363636363636, 0.8831168831168831, 0.922077922077922, 0.922077922077922, 0.922077922077922, 0.9285714285714286], [0.8701298701298701, 0.8636363636363636, 0.8831168831168831, 0.8961038961038961, 0.9090909090909091, 0.922077922077922, 0.9285714285714286, 0.922077922077922], [0.512987012987013, 0.8051948051948052, 0.8636363636363636, 0.8701298701298701, 0.8701298701298701, 0.8701298701298701, 0.8701298701298701, 0.8701298701298701], [0.9285714285714286, 0.9285714285714286, 0.9285714285714286, 0.9285714285714286, 0.9285714285714286, 0.9285714285714286, 0.9285714285714286, 0.9285714285714286]]\n",
      "Test accuracies (per penalty): [[0.44, 0.7, 0.78, 0.84, 0.88, 0.86, 0.88, 0.9], [0.78, 0.82, 0.84, 0.82, 0.9, 0.88, 0.86, 0.88], [0.56, 0.7, 0.78, 0.82, 0.8, 0.8, 0.8, 0.8], [0.9, 0.9, 0.9, 0.9, 0.9, 0.9, 0.9, 0.9]]\n"
     ]
    },
    {
     "name": "stderr",
     "output_type": "stream",
     "text": [
      "/Users/ciarangray/Library/Python/3.12/lib/python/site-packages/sklearn/linear_model/_logistic.py:1207: UserWarning: Setting penalty=None will ignore the C and l1_ratio parameters\n",
      "  warnings.warn(\n",
      "/Users/ciarangray/Library/Python/3.12/lib/python/site-packages/sklearn/linear_model/_logistic.py:1207: UserWarning: Setting penalty=None will ignore the C and l1_ratio parameters\n",
      "  warnings.warn(\n",
      "/Users/ciarangray/Library/Python/3.12/lib/python/site-packages/sklearn/linear_model/_logistic.py:1207: UserWarning: Setting penalty=None will ignore the C and l1_ratio parameters\n",
      "  warnings.warn(\n",
      "/Users/ciarangray/Library/Python/3.12/lib/python/site-packages/sklearn/linear_model/_logistic.py:1207: UserWarning: Setting penalty=None will ignore the C and l1_ratio parameters\n",
      "  warnings.warn(\n",
      "/Users/ciarangray/Library/Python/3.12/lib/python/site-packages/sklearn/linear_model/_logistic.py:1207: UserWarning: Setting penalty=None will ignore the C and l1_ratio parameters\n",
      "  warnings.warn(\n",
      "/Users/ciarangray/Library/Python/3.12/lib/python/site-packages/sklearn/linear_model/_logistic.py:1207: UserWarning: Setting penalty=None will ignore the C and l1_ratio parameters\n",
      "  warnings.warn(\n",
      "/Users/ciarangray/Library/Python/3.12/lib/python/site-packages/sklearn/linear_model/_logistic.py:1207: UserWarning: Setting penalty=None will ignore the C and l1_ratio parameters\n",
      "  warnings.warn(\n"
     ]
    }
   ],
   "execution_count": 33
  },
  {
   "metadata": {
    "ExecuteTime": {
     "end_time": "2025-09-29T14:02:43.135111Z",
     "start_time": "2025-09-29T14:02:43.053274Z"
    }
   },
   "cell_type": "code",
   "source": [
    "\n",
    "plt.figure(figsize=(10, 6))\n",
    "markers = [\"x\", \"+\", \"o\", \"s\"]  # Different markers for each max_iter\n",
    "\n",
    "for idx, mi in enumerate(max_iter_values):\n",
    "    plt.scatter(c_values, accuracy_training_c_mi[idx], marker=markers[idx], label=f\"Training (max_iter={mi})\")\n",
    "    plt.scatter(c_values, accuracy_test_c_mi[idx], marker=markers[idx], label=f\"Test (max_iter={mi})\")\n",
    "\n",
    "plt.xlim([min(c_values), max(c_values)])\n",
    "plt.ylim([0.0, 1.1])\n",
    "plt.xlabel(\"Value of C\")\n",
    "plt.ylabel(\"Accuracy\")\n",
    "plt.legend(loc=4, borderpad=1)\n",
    "plt.title(\"Effect of C and max_iter on training and test set accuracy\", fontsize=10)\n",
    "plt.show()"
   ],
   "id": "e29ab46290f62f6d",
   "outputs": [
    {
     "data": {
      "text/plain": [
       "<Figure size 1000x600 with 1 Axes>"
      ],
      "image/png": "[encoded data removed]"
     },
     "metadata": {},
     "output_type": "display_data"
    }
   ],
   "execution_count": 26
  }
 ],
 "metadata": {
  "kernelspec": {
   "display_name": "Python 3",
   "language": "python",
   "name": "python3"
  },
  "language_info": {
   "codemirror_mode": {
    "name": "ipython",
    "version": 2
   },
   "file_extension": ".py",
   "mimetype": "text/x-python",
   "name": "python",
   "nbconvert_exporter": "python",
   "pygments_lexer": "ipython2",
   "version": "2.7.6"
  }
 },
 "nbformat": 4,
 "nbformat_minor": 5
}
