{
 "cells": [
  {
   "metadata": {},
   "cell_type": "markdown",
   "source": [
    "In this worked notebook file,the Logistic Regression algorithm is applied to a dataset called wildfires.\n",
    "\n",
    "The dataset has already been split into two different sets: one for training (wildfires_training.csv) and one for testing (wildfires_test.csv)\n",
    "\n",
    "The dependent variable that we are trying to predict is fire, which can be one of 2 classes: yes or no."
   ],
   "id": "b63c73228a9f5b43"
  },
  {
   "metadata": {
    "ExecuteTime": {
     "end_time": "2025-10-01T18:36:10.681318Z",
     "start_time": "2025-10-01T18:36:10.673650Z"
    }
   },
   "cell_type": "code",
   "source": [
    "import pandas as pd\n",
    "\n",
    "# details for beer dataset\n",
    "training_file = \"wildfires_training.csv\"\n",
    "test_file = \"wildfires_test.csv\"\n",
    "independent_cols = [\"year\", \"temp\", \"humidity\", \"rainfall\", \"drought_code\", \"buildup_index\", \"day\", \"month\", \"wind_speed\"]\n",
    "\n",
    "dependent_col = \"fire\"\n",
    "\n",
    "# Here we load our training dataset in from the training file using the pandas library\n",
    "df_training = pd.read_csv(training_file)\n",
    "print(df_training.head())\n",
    "print(df_training.shape)"
   ],
   "id": "e5e7fc021d5d685f",
   "outputs": [
    {
     "name": "stdout",
     "output_type": "stream",
     "text": [
      "  fire  year  temp  humidity  rainfall  drought_code  buildup_index  day  \\\n",
      "0   no  2015    28        59       0.0          8.06           3.47    1   \n",
      "1   no  2010    30        61       1.3          8.17           4.03    2   \n",
      "2   no  2009    26        83      13.1          8.08           3.59    3   \n",
      "3   no  2017    25        87       2.5          7.18           2.42    4   \n",
      "4   no  2014    28        77       0.0         14.98           4.63    5   \n",
      "\n",
      "   month  wind_speed  \n",
      "0      6          19  \n",
      "1      6          13  \n",
      "2      6          22  \n",
      "3      6          15  \n",
      "4      6          18  \n",
      "(154, 10)\n"
     ]
    }
   ],
   "execution_count": 2
  },
  {
   "metadata": {
    "ExecuteTime": {
     "end_time": "2025-10-01T18:36:14.588616Z",
     "start_time": "2025-10-01T18:36:14.583927Z"
    }
   },
   "cell_type": "code",
   "source": [
    "# set up a matrix X containing the independent variables from the training data\n",
    "X_training = df_training.loc[:,independent_cols]\n",
    "print(X_training.head())\n",
    "print(X_training.shape)"
   ],
   "id": "bfa3233e2de44c8",
   "outputs": [
    {
     "name": "stdout",
     "output_type": "stream",
     "text": [
      "   year  temp  humidity  rainfall  drought_code  buildup_index  day  month  \\\n",
      "0  2015    28        59       0.0          8.06           3.47    1      6   \n",
      "1  2010    30        61       1.3          8.17           4.03    2      6   \n",
      "2  2009    26        83      13.1          8.08           3.59    3      6   \n",
      "3  2017    25        87       2.5          7.18           2.42    4      6   \n",
      "4  2014    28        77       0.0         14.98           4.63    5      6   \n",
      "\n",
      "   wind_speed  \n",
      "0          19  \n",
      "1          13  \n",
      "2          22  \n",
      "3          15  \n",
      "4          18  \n",
      "(154, 9)\n"
     ]
    }
   ],
   "execution_count": 3
  },
  {
   "metadata": {
    "ExecuteTime": {
     "end_time": "2025-10-01T18:36:17.443128Z",
     "start_time": "2025-10-01T18:36:17.439393Z"
    }
   },
   "cell_type": "code",
   "source": [
    "# Set up a vector y containing the dependent variable / target attribute for the training data\n",
    "y_training = df_training.loc[:,dependent_col]\n",
    "print(y_training.head())\n",
    "print(y_training.shape)"
   ],
   "id": "4c6008f1ec2d3166",
   "outputs": [
    {
     "name": "stdout",
     "output_type": "stream",
     "text": [
      "0    no\n",
      "1    no\n",
      "2    no\n",
      "3    no\n",
      "4    no\n",
      "Name: fire, dtype: object\n",
      "(154,)\n"
     ]
    }
   ],
   "execution_count": 4
  },
  {
   "metadata": {
    "ExecuteTime": {
     "end_time": "2025-10-01T18:36:19.973417Z",
     "start_time": "2025-10-01T18:36:19.966783Z"
    }
   },
   "cell_type": "code",
   "source": [
    "# Next we load our test dataset in from the file iris_test.csv\n",
    "df_test = pd.read_csv(test_file)\n",
    "print(df_test.head())\n",
    "print(df_test.shape)"
   ],
   "id": "ab1031a8c2d9a447",
   "outputs": [
    {
     "name": "stdout",
     "output_type": "stream",
     "text": [
      "  fire  year  temp  humidity  rainfall  drought_code  buildup_index  day  \\\n",
      "0   no  2015    33        68       4.5          9.12           5.09   19   \n",
      "1  yes  2009    28        56       0.0         38.17          21.21   12   \n",
      "2   no  2017    30        64       0.6         15.38           6.24   24   \n",
      "3   no  2007    23        74       8.3          7.36           2.27   14   \n",
      "4   no  2017    31        72       0.3         30.47           5.63    7   \n",
      "\n",
      "   month  wind_speed  \n",
      "0      6          16  \n",
      "1      6          18  \n",
      "2      9          19  \n",
      "3      9          28  \n",
      "4      9          17  \n",
      "(50, 10)\n"
     ]
    }
   ],
   "execution_count": 5
  },
  {
   "metadata": {
    "ExecuteTime": {
     "end_time": "2025-10-01T18:36:23.540507Z",
     "start_time": "2025-10-01T18:36:23.534857Z"
    }
   },
   "cell_type": "code",
   "source": [
    "# set up a matrix X containing the independent variables from the test data\n",
    "X_test = df_test.loc[:,independent_cols]\n",
    "print(X_test.head())\n",
    "print(X_test.shape)"
   ],
   "id": "5118adc99eccca3c",
   "outputs": [
    {
     "name": "stdout",
     "output_type": "stream",
     "text": [
      "   year  temp  humidity  rainfall  drought_code  buildup_index  day  month  \\\n",
      "0  2015    33        68       4.5          9.12           5.09   19      6   \n",
      "1  2009    28        56       0.0         38.17          21.21   12      6   \n",
      "2  2017    30        64       0.6         15.38           6.24   24      9   \n",
      "3  2007    23        74       8.3          7.36           2.27   14      9   \n",
      "4  2017    31        72       0.3         30.47           5.63    7      9   \n",
      "\n",
      "   wind_speed  \n",
      "0          16  \n",
      "1          18  \n",
      "2          19  \n",
      "3          28  \n",
      "4          17  \n",
      "(50, 9)\n"
     ]
    }
   ],
   "execution_count": 6
  },
  {
   "metadata": {
    "ExecuteTime": {
     "end_time": "2025-10-01T18:36:25.960676Z",
     "start_time": "2025-10-01T18:36:25.957334Z"
    }
   },
   "cell_type": "code",
   "source": [
    "# Set up a vector y containing the dependent variable / target attribute for the training data\n",
    "y_test = df_test.loc[:,dependent_col]\n",
    "print(y_test.head())\n",
    "print(y_test.shape)"
   ],
   "id": "65f55ab0b1db86dc",
   "outputs": [
    {
     "name": "stdout",
     "output_type": "stream",
     "text": [
      "0     no\n",
      "1    yes\n",
      "2     no\n",
      "3     no\n",
      "4     no\n",
      "Name: fire, dtype: object\n",
      "(50,)\n"
     ]
    }
   ],
   "execution_count": 7
  },
  {
   "metadata": {},
   "cell_type": "markdown",
   "source": "No hyperparameter tuning, default skikit-learn implementation",
   "id": "b8e5a363102b639"
  },
  {
   "metadata": {
    "ExecuteTime": {
     "end_time": "2025-10-01T18:37:06.490712Z",
     "start_time": "2025-10-01T18:37:06.462403Z"
    }
   },
   "cell_type": "code",
   "source": [
    "from sklearn import metrics\n",
    "from sklearn.linear_model import LogisticRegression\n",
    "\n",
    "# create a logistic regression model using default settings\n",
    "model = LogisticRegression(max_iter=1000)\n",
    "model.fit(X_training, y_training)\n",
    "\n",
    "# compute predictions for training and test sets\n",
    "predictions_training = model.predict(X_training)\n",
    "predictions_test = model.predict(X_test)\n",
    "\n",
    "# compute accuracy for training and test sets\n",
    "accuracy_training = metrics.accuracy_score(y_training, predictions_training)\n",
    "accuracy_test = metrics.accuracy_score(y_test, predictions_test)\n",
    "\n",
    "print(\"Accuracy on training data:\", accuracy_training)\n",
    "print(\"Accuracy on test data:\", accuracy_test)"
   ],
   "id": "5d56b814406b3a6d",
   "outputs": [
    {
     "name": "stdout",
     "output_type": "stream",
     "text": [
      "Accuracy on training data: 0.9090909090909091\n",
      "Accuracy on test data: 0.9\n"
     ]
    }
   ],
   "execution_count": 10
  },
  {
   "metadata": {
    "ExecuteTime": {
     "end_time": "2025-10-01T18:50:30.889208Z",
     "start_time": "2025-10-01T18:50:30.669625Z"
    }
   },
   "cell_type": "code",
   "source": [
    "import numpy as np\n",
    "# Now let's evaluate the effect of using different C values\n",
    "\n",
    "c_values = c_values = c_values = np.linspace(0.001, 100, 12)\n",
    "print(\"C-values\", c_values)\n",
    "\n",
    "accuracy_training_c = []\n",
    "accuracy_test_c = []\n",
    "for c in c_values:\n",
    "    model_c = LogisticRegression(C=c, max_iter=1000)\n",
    "    model_c.fit(X_training, y_training)\n",
    "\n",
    "    # compute the predictions for the training and test sets\n",
    "    predictions_training_c = model_c.predict(X_training)\n",
    "    predictions_test_c = model_c.predict(X_test)\n",
    "\n",
    "    # compute the accuracy on the training and test set predictions\n",
    "    accuracy_training_c.append(metrics.accuracy_score(y_training, predictions_training_c))\n",
    "    accuracy_test_c.append(metrics.accuracy_score(y_test, predictions_test_c))\n",
    "\n",
    "print(\"Accuracy on training data with different C values\", accuracy_training_c)\n",
    "print(\"Accuracy on test data with different C values\", accuracy_test_c)"
   ],
   "id": "7760a14a18daa960",
   "outputs": [
    {
     "name": "stdout",
     "output_type": "stream",
     "text": [
      "C-values [1.00000000e-03 9.09181818e+00 1.81826364e+01 2.72734545e+01\n",
      " 3.63642727e+01 4.54550909e+01 5.45459091e+01 6.36367273e+01\n",
      " 7.27275455e+01 8.18183636e+01 9.09091818e+01 1.00000000e+02]\n",
      "Accuracy on training data with different C values [0.8636363636363636, 0.922077922077922, 0.9285714285714286, 0.935064935064935, 0.9285714285714286, 0.9285714285714286, 0.9285714285714286, 0.9285714285714286, 0.9285714285714286, 0.9285714285714286, 0.9285714285714286, 0.9285714285714286]\n",
      "Accuracy on test data with different C values [0.82, 0.88, 0.88, 0.88, 0.86, 0.86, 0.86, 0.86, 0.86, 0.86, 0.86, 0.86]\n"
     ]
    }
   ],
   "execution_count": 13
  },
  {
   "metadata": {
    "ExecuteTime": {
     "end_time": "2025-10-01T18:51:22.716545Z",
     "start_time": "2025-10-01T18:51:22.665534Z"
    }
   },
   "cell_type": "code",
   "source": [
    "# let's plot the accuracy on the training and test set\n",
    "import matplotlib.pyplot as plt\n",
    "plt.scatter(c_values,accuracy_training_c,marker=\"x\")\n",
    "plt.scatter(c_values,accuracy_test_c,marker=\"+\")\n",
    "plt.xlim([min(c_values), max(c_values)])\n",
    "plt.ylim([0.0, 1.1])\n",
    "plt.xlabel(\"Value of c\")\n",
    "plt.ylabel(\"Accuracy\")\n",
    "legend_labels = [\"Training\",\"Test\"]\n",
    "plt.legend(labels=legend_labels, loc=4, borderpad=1)\n",
    "plt.title(\"Effect of c on training and test set accuracy\", fontsize=10)\n",
    "plt.show()"
   ],
   "id": "47344f8fbb665d29",
   "outputs": [
    {
     "data": {
      "text/plain": [
       "<Figure size 640x480 with 1 Axes>"
      ],
      "image/png": "[encoded data removed]"
     },
     "metadata": {},
     "output_type": "display_data"
    }
   ],
   "execution_count": 15
  },
  {
   "metadata": {
    "ExecuteTime": {
     "end_time": "2025-09-29T14:02:38.652624Z",
     "start_time": "2025-09-29T14:02:38.074238Z"
    }
   },
   "cell_type": "code",
   "source": [
    "max_iter_values = [100, 200, 500, 1000]\n",
    "\n",
    "accuracy_training_c_mi = []\n",
    "accuracy_test_c_mi = []\n",
    "\n",
    "for mi in max_iter_values:\n",
    "    acc_train = []\n",
    "    acc_test = []\n",
    "    for c in c_values:\n",
    "        model = LogisticRegression(C=c, max_iter=mi)\n",
    "        model.fit(X_training, y_training)\n",
    "        pred_train = model.predict(X_training)\n",
    "        pred_test = model.predict(X_test)\n",
    "        acc_train.append(metrics.accuracy_score(y_training, pred_train))\n",
    "        acc_test.append(metrics.accuracy_score(y_test, pred_test))\n",
    "    accuracy_training_c_mi.append(acc_train)\n",
    "    accuracy_test_c_mi.append(acc_test)\n",
    "print(f\"max_iter={mi} training:\", accuracy_training_c_mi)\n",
    "print(f\"max_iter={mi} test:\", accuracy_test_c_mi)"
   ],
   "id": "33811ec89dc3c545",
   "outputs": [
    {
     "name": "stderr",
     "output_type": "stream",
     "text": [
      "/Users/ciarangray/Library/Python/3.12/lib/python/site-packages/sklearn/linear_model/_logistic.py:465: ConvergenceWarning: lbfgs failed to converge (status=1):\n",
      "STOP: TOTAL NO. OF ITERATIONS REACHED LIMIT.\n",
      "\n",
      "Increase the number of iterations (max_iter) or scale the data as shown in:\n",
      "    https://scikit-learn.org/stable/modules/preprocessing.html\n",
      "Please also refer to the documentation for alternative solver options:\n",
      "    https://scikit-learn.org/stable/modules/linear_model.html#logistic-regression\n",
      "  n_iter_i = _check_optimize_result(\n",
      "/Users/ciarangray/Library/Python/3.12/lib/python/site-packages/sklearn/linear_model/_logistic.py:465: ConvergenceWarning: lbfgs failed to converge (status=1):\n",
      "STOP: TOTAL NO. OF ITERATIONS REACHED LIMIT.\n",
      "\n",
      "Increase the number of iterations (max_iter) or scale the data as shown in:\n",
      "    https://scikit-learn.org/stable/modules/preprocessing.html\n",
      "Please also refer to the documentation for alternative solver options:\n",
      "    https://scikit-learn.org/stable/modules/linear_model.html#logistic-regression\n",
      "  n_iter_i = _check_optimize_result(\n",
      "/Users/ciarangray/Library/Python/3.12/lib/python/site-packages/sklearn/linear_model/_logistic.py:465: ConvergenceWarning: lbfgs failed to converge (status=1):\n",
      "STOP: TOTAL NO. OF ITERATIONS REACHED LIMIT.\n",
      "\n",
      "Increase the number of iterations (max_iter) or scale the data as shown in:\n",
      "    https://scikit-learn.org/stable/modules/preprocessing.html\n",
      "Please also refer to the documentation for alternative solver options:\n",
      "    https://scikit-learn.org/stable/modules/linear_model.html#logistic-regression\n",
      "  n_iter_i = _check_optimize_result(\n",
      "/Users/ciarangray/Library/Python/3.12/lib/python/site-packages/sklearn/linear_model/_logistic.py:465: ConvergenceWarning: lbfgs failed to converge (status=1):\n",
      "STOP: TOTAL NO. OF ITERATIONS REACHED LIMIT.\n",
      "\n",
      "Increase the number of iterations (max_iter) or scale the data as shown in:\n",
      "    https://scikit-learn.org/stable/modules/preprocessing.html\n",
      "Please also refer to the documentation for alternative solver options:\n",
      "    https://scikit-learn.org/stable/modules/linear_model.html#logistic-regression\n",
      "  n_iter_i = _check_optimize_result(\n",
      "/Users/ciarangray/Library/Python/3.12/lib/python/site-packages/sklearn/linear_model/_logistic.py:465: ConvergenceWarning: lbfgs failed to converge (status=1):\n",
      "STOP: TOTAL NO. OF ITERATIONS REACHED LIMIT.\n",
      "\n",
      "Increase the number of iterations (max_iter) or scale the data as shown in:\n",
      "    https://scikit-learn.org/stable/modules/preprocessing.html\n",
      "Please also refer to the documentation for alternative solver options:\n",
      "    https://scikit-learn.org/stable/modules/linear_model.html#logistic-regression\n",
      "  n_iter_i = _check_optimize_result(\n",
      "/Users/ciarangray/Library/Python/3.12/lib/python/site-packages/sklearn/linear_model/_logistic.py:465: ConvergenceWarning: lbfgs failed to converge (status=1):\n",
      "STOP: TOTAL NO. OF ITERATIONS REACHED LIMIT.\n",
      "\n",
      "Increase the number of iterations (max_iter) or scale the data as shown in:\n",
      "    https://scikit-learn.org/stable/modules/preprocessing.html\n",
      "Please also refer to the documentation for alternative solver options:\n",
      "    https://scikit-learn.org/stable/modules/linear_model.html#logistic-regression\n",
      "  n_iter_i = _check_optimize_result(\n",
      "/Users/ciarangray/Library/Python/3.12/lib/python/site-packages/sklearn/linear_model/_logistic.py:465: ConvergenceWarning: lbfgs failed to converge (status=1):\n",
      "STOP: TOTAL NO. OF ITERATIONS REACHED LIMIT.\n",
      "\n",
      "Increase the number of iterations (max_iter) or scale the data as shown in:\n",
      "    https://scikit-learn.org/stable/modules/preprocessing.html\n",
      "Please also refer to the documentation for alternative solver options:\n",
      "    https://scikit-learn.org/stable/modules/linear_model.html#logistic-regression\n",
      "  n_iter_i = _check_optimize_result(\n",
      "/Users/ciarangray/Library/Python/3.12/lib/python/site-packages/sklearn/linear_model/_logistic.py:465: ConvergenceWarning: lbfgs failed to converge (status=1):\n",
      "STOP: TOTAL NO. OF ITERATIONS REACHED LIMIT.\n",
      "\n",
      "Increase the number of iterations (max_iter) or scale the data as shown in:\n",
      "    https://scikit-learn.org/stable/modules/preprocessing.html\n",
      "Please also refer to the documentation for alternative solver options:\n",
      "    https://scikit-learn.org/stable/modules/linear_model.html#logistic-regression\n",
      "  n_iter_i = _check_optimize_result(\n",
      "/Users/ciarangray/Library/Python/3.12/lib/python/site-packages/sklearn/linear_model/_logistic.py:465: ConvergenceWarning: lbfgs failed to converge (status=1):\n",
      "STOP: TOTAL NO. OF ITERATIONS REACHED LIMIT.\n",
      "\n",
      "Increase the number of iterations (max_iter) or scale the data as shown in:\n",
      "    https://scikit-learn.org/stable/modules/preprocessing.html\n",
      "Please also refer to the documentation for alternative solver options:\n",
      "    https://scikit-learn.org/stable/modules/linear_model.html#logistic-regression\n",
      "  n_iter_i = _check_optimize_result(\n",
      "/Users/ciarangray/Library/Python/3.12/lib/python/site-packages/sklearn/linear_model/_logistic.py:465: ConvergenceWarning: lbfgs failed to converge (status=1):\n",
      "STOP: TOTAL NO. OF ITERATIONS REACHED LIMIT.\n",
      "\n",
      "Increase the number of iterations (max_iter) or scale the data as shown in:\n",
      "    https://scikit-learn.org/stable/modules/preprocessing.html\n",
      "Please also refer to the documentation for alternative solver options:\n",
      "    https://scikit-learn.org/stable/modules/linear_model.html#logistic-regression\n",
      "  n_iter_i = _check_optimize_result(\n",
      "/Users/ciarangray/Library/Python/3.12/lib/python/site-packages/sklearn/linear_model/_logistic.py:465: ConvergenceWarning: lbfgs failed to converge (status=1):\n",
      "STOP: TOTAL NO. OF ITERATIONS REACHED LIMIT.\n",
      "\n",
      "Increase the number of iterations (max_iter) or scale the data as shown in:\n",
      "    https://scikit-learn.org/stable/modules/preprocessing.html\n",
      "Please also refer to the documentation for alternative solver options:\n",
      "    https://scikit-learn.org/stable/modules/linear_model.html#logistic-regression\n",
      "  n_iter_i = _check_optimize_result(\n",
      "/Users/ciarangray/Library/Python/3.12/lib/python/site-packages/sklearn/linear_model/_logistic.py:465: ConvergenceWarning: lbfgs failed to converge (status=1):\n",
      "STOP: TOTAL NO. OF ITERATIONS REACHED LIMIT.\n",
      "\n",
      "Increase the number of iterations (max_iter) or scale the data as shown in:\n",
      "    https://scikit-learn.org/stable/modules/preprocessing.html\n",
      "Please also refer to the documentation for alternative solver options:\n",
      "    https://scikit-learn.org/stable/modules/linear_model.html#logistic-regression\n",
      "  n_iter_i = _check_optimize_result(\n",
      "/Users/ciarangray/Library/Python/3.12/lib/python/site-packages/sklearn/linear_model/_logistic.py:465: ConvergenceWarning: lbfgs failed to converge (status=1):\n",
      "STOP: TOTAL NO. OF ITERATIONS REACHED LIMIT.\n",
      "\n",
      "Increase the number of iterations (max_iter) or scale the data as shown in:\n",
      "    https://scikit-learn.org/stable/modules/preprocessing.html\n",
      "Please also refer to the documentation for alternative solver options:\n",
      "    https://scikit-learn.org/stable/modules/linear_model.html#logistic-regression\n",
      "  n_iter_i = _check_optimize_result(\n",
      "/Users/ciarangray/Library/Python/3.12/lib/python/site-packages/sklearn/linear_model/_logistic.py:465: ConvergenceWarning: lbfgs failed to converge (status=1):\n",
      "STOP: TOTAL NO. OF ITERATIONS REACHED LIMIT.\n",
      "\n",
      "Increase the number of iterations (max_iter) or scale the data as shown in:\n",
      "    https://scikit-learn.org/stable/modules/preprocessing.html\n",
      "Please also refer to the documentation for alternative solver options:\n",
      "    https://scikit-learn.org/stable/modules/linear_model.html#logistic-regression\n",
      "  n_iter_i = _check_optimize_result(\n",
      "/Users/ciarangray/Library/Python/3.12/lib/python/site-packages/sklearn/linear_model/_logistic.py:465: ConvergenceWarning: lbfgs failed to converge (status=1):\n",
      "STOP: TOTAL NO. OF ITERATIONS REACHED LIMIT.\n",
      "\n",
      "Increase the number of iterations (max_iter) or scale the data as shown in:\n",
      "    https://scikit-learn.org/stable/modules/preprocessing.html\n",
      "Please also refer to the documentation for alternative solver options:\n",
      "    https://scikit-learn.org/stable/modules/linear_model.html#logistic-regression\n",
      "  n_iter_i = _check_optimize_result(\n",
      "/Users/ciarangray/Library/Python/3.12/lib/python/site-packages/sklearn/linear_model/_logistic.py:465: ConvergenceWarning: lbfgs failed to converge (status=1):\n",
      "STOP: TOTAL NO. OF ITERATIONS REACHED LIMIT.\n",
      "\n",
      "Increase the number of iterations (max_iter) or scale the data as shown in:\n",
      "    https://scikit-learn.org/stable/modules/preprocessing.html\n",
      "Please also refer to the documentation for alternative solver options:\n",
      "    https://scikit-learn.org/stable/modules/linear_model.html#logistic-regression\n",
      "  n_iter_i = _check_optimize_result(\n",
      "/Users/ciarangray/Library/Python/3.12/lib/python/site-packages/sklearn/linear_model/_logistic.py:465: ConvergenceWarning: lbfgs failed to converge (status=1):\n",
      "STOP: TOTAL NO. OF ITERATIONS REACHED LIMIT.\n",
      "\n",
      "Increase the number of iterations (max_iter) or scale the data as shown in:\n",
      "    https://scikit-learn.org/stable/modules/preprocessing.html\n",
      "Please also refer to the documentation for alternative solver options:\n",
      "    https://scikit-learn.org/stable/modules/linear_model.html#logistic-regression\n",
      "  n_iter_i = _check_optimize_result(\n",
      "/Users/ciarangray/Library/Python/3.12/lib/python/site-packages/sklearn/linear_model/_logistic.py:465: ConvergenceWarning: lbfgs failed to converge (status=1):\n",
      "STOP: TOTAL NO. OF ITERATIONS REACHED LIMIT.\n",
      "\n",
      "Increase the number of iterations (max_iter) or scale the data as shown in:\n",
      "    https://scikit-learn.org/stable/modules/preprocessing.html\n",
      "Please also refer to the documentation for alternative solver options:\n",
      "    https://scikit-learn.org/stable/modules/linear_model.html#logistic-regression\n",
      "  n_iter_i = _check_optimize_result(\n",
      "/Users/ciarangray/Library/Python/3.12/lib/python/site-packages/sklearn/linear_model/_logistic.py:465: ConvergenceWarning: lbfgs failed to converge (status=1):\n",
      "STOP: TOTAL NO. OF ITERATIONS REACHED LIMIT.\n",
      "\n",
      "Increase the number of iterations (max_iter) or scale the data as shown in:\n",
      "    https://scikit-learn.org/stable/modules/preprocessing.html\n",
      "Please also refer to the documentation for alternative solver options:\n",
      "    https://scikit-learn.org/stable/modules/linear_model.html#logistic-regression\n",
      "  n_iter_i = _check_optimize_result(\n",
      "/Users/ciarangray/Library/Python/3.12/lib/python/site-packages/sklearn/linear_model/_logistic.py:465: ConvergenceWarning: lbfgs failed to converge (status=1):\n",
      "STOP: TOTAL NO. OF ITERATIONS REACHED LIMIT.\n",
      "\n",
      "Increase the number of iterations (max_iter) or scale the data as shown in:\n",
      "    https://scikit-learn.org/stable/modules/preprocessing.html\n",
      "Please also refer to the documentation for alternative solver options:\n",
      "    https://scikit-learn.org/stable/modules/linear_model.html#logistic-regression\n",
      "  n_iter_i = _check_optimize_result(\n",
      "/Users/ciarangray/Library/Python/3.12/lib/python/site-packages/sklearn/linear_model/_logistic.py:465: ConvergenceWarning: lbfgs failed to converge (status=1):\n",
      "STOP: TOTAL NO. OF ITERATIONS REACHED LIMIT.\n",
      "\n",
      "Increase the number of iterations (max_iter) or scale the data as shown in:\n",
      "    https://scikit-learn.org/stable/modules/preprocessing.html\n",
      "Please also refer to the documentation for alternative solver options:\n",
      "    https://scikit-learn.org/stable/modules/linear_model.html#logistic-regression\n",
      "  n_iter_i = _check_optimize_result(\n",
      "/Users/ciarangray/Library/Python/3.12/lib/python/site-packages/sklearn/linear_model/_logistic.py:465: ConvergenceWarning: lbfgs failed to converge (status=1):\n",
      "STOP: TOTAL NO. OF ITERATIONS REACHED LIMIT.\n",
      "\n",
      "Increase the number of iterations (max_iter) or scale the data as shown in:\n",
      "    https://scikit-learn.org/stable/modules/preprocessing.html\n",
      "Please also refer to the documentation for alternative solver options:\n",
      "    https://scikit-learn.org/stable/modules/linear_model.html#logistic-regression\n",
      "  n_iter_i = _check_optimize_result(\n",
      "/Users/ciarangray/Library/Python/3.12/lib/python/site-packages/sklearn/linear_model/_logistic.py:465: ConvergenceWarning: lbfgs failed to converge (status=1):\n",
      "STOP: TOTAL NO. OF ITERATIONS REACHED LIMIT.\n",
      "\n",
      "Increase the number of iterations (max_iter) or scale the data as shown in:\n",
      "    https://scikit-learn.org/stable/modules/preprocessing.html\n",
      "Please also refer to the documentation for alternative solver options:\n",
      "    https://scikit-learn.org/stable/modules/linear_model.html#logistic-regression\n",
      "  n_iter_i = _check_optimize_result(\n",
      "/Users/ciarangray/Library/Python/3.12/lib/python/site-packages/sklearn/linear_model/_logistic.py:465: ConvergenceWarning: lbfgs failed to converge (status=1):\n",
      "STOP: TOTAL NO. OF ITERATIONS REACHED LIMIT.\n",
      "\n",
      "Increase the number of iterations (max_iter) or scale the data as shown in:\n",
      "    https://scikit-learn.org/stable/modules/preprocessing.html\n",
      "Please also refer to the documentation for alternative solver options:\n",
      "    https://scikit-learn.org/stable/modules/linear_model.html#logistic-regression\n",
      "  n_iter_i = _check_optimize_result(\n",
      "/Users/ciarangray/Library/Python/3.12/lib/python/site-packages/sklearn/linear_model/_logistic.py:465: ConvergenceWarning: lbfgs failed to converge (status=1):\n",
      "STOP: TOTAL NO. OF ITERATIONS REACHED LIMIT.\n",
      "\n",
      "Increase the number of iterations (max_iter) or scale the data as shown in:\n",
      "    https://scikit-learn.org/stable/modules/preprocessing.html\n",
      "Please also refer to the documentation for alternative solver options:\n",
      "    https://scikit-learn.org/stable/modules/linear_model.html#logistic-regression\n",
      "  n_iter_i = _check_optimize_result(\n",
      "/Users/ciarangray/Library/Python/3.12/lib/python/site-packages/sklearn/linear_model/_logistic.py:465: ConvergenceWarning: lbfgs failed to converge (status=1):\n",
      "STOP: TOTAL NO. OF ITERATIONS REACHED LIMIT.\n",
      "\n",
      "Increase the number of iterations (max_iter) or scale the data as shown in:\n",
      "    https://scikit-learn.org/stable/modules/preprocessing.html\n",
      "Please also refer to the documentation for alternative solver options:\n",
      "    https://scikit-learn.org/stable/modules/linear_model.html#logistic-regression\n",
      "  n_iter_i = _check_optimize_result(\n",
      "/Users/ciarangray/Library/Python/3.12/lib/python/site-packages/sklearn/linear_model/_logistic.py:465: ConvergenceWarning: lbfgs failed to converge (status=1):\n",
      "STOP: TOTAL NO. OF ITERATIONS REACHED LIMIT.\n",
      "\n",
      "Increase the number of iterations (max_iter) or scale the data as shown in:\n",
      "    https://scikit-learn.org/stable/modules/preprocessing.html\n",
      "Please also refer to the documentation for alternative solver options:\n",
      "    https://scikit-learn.org/stable/modules/linear_model.html#logistic-regression\n",
      "  n_iter_i = _check_optimize_result(\n"
     ]
    },
    {
     "name": "stdout",
     "output_type": "stream",
     "text": [
      "max_iter=1000 training: [[0.8636363636363636, 0.9025974025974026, 0.8896103896103896, 0.8896103896103896, 0.9025974025974026, 0.8961038961038961, 0.8766233766233766, 0.8831168831168831, 0.8896103896103896, 0.8896103896103896, 0.8961038961038961, 0.8961038961038961], [0.8636363636363636, 0.9155844155844156, 0.9285714285714286, 0.9090909090909091, 0.9285714285714286, 0.9025974025974026, 0.922077922077922, 0.9025974025974026, 0.9155844155844156, 0.8961038961038961, 0.922077922077922, 0.9090909090909091], [0.8636363636363636, 0.922077922077922, 0.9285714285714286, 0.935064935064935, 0.9285714285714286, 0.9285714285714286, 0.9285714285714286, 0.9285714285714286, 0.9285714285714286, 0.9285714285714286, 0.9285714285714286, 0.9285714285714286], [0.8636363636363636, 0.922077922077922, 0.9285714285714286, 0.935064935064935, 0.9285714285714286, 0.9285714285714286, 0.9285714285714286, 0.9285714285714286, 0.9285714285714286, 0.9285714285714286, 0.9285714285714286, 0.9285714285714286]]\n",
      "max_iter=1000 test: [[0.82, 0.9, 0.9, 0.88, 0.9, 0.88, 0.88, 0.84, 0.84, 0.86, 0.9, 0.9], [0.82, 0.88, 0.88, 0.9, 0.88, 0.88, 0.88, 0.82, 0.88, 0.86, 0.84, 0.88], [0.82, 0.88, 0.88, 0.88, 0.86, 0.86, 0.86, 0.86, 0.86, 0.86, 0.86, 0.86], [0.82, 0.88, 0.88, 0.88, 0.86, 0.86, 0.86, 0.86, 0.86, 0.86, 0.86, 0.86]]\n"
     ]
    }
   ],
   "execution_count": 25
  },
  {
   "metadata": {
    "ExecuteTime": {
     "end_time": "2025-09-29T14:02:43.135111Z",
     "start_time": "2025-09-29T14:02:43.053274Z"
    }
   },
   "cell_type": "code",
   "source": [
    "\n",
    "plt.figure(figsize=(10, 6))\n",
    "markers = [\"x\", \"+\", \"o\", \"s\"]  # Different markers for each max_iter\n",
    "\n",
    "for idx, mi in enumerate(max_iter_values):\n",
    "    plt.scatter(c_values, accuracy_training_c_mi[idx], marker=markers[idx], label=f\"Training (max_iter={mi})\")\n",
    "    plt.scatter(c_values, accuracy_test_c_mi[idx], marker=markers[idx], label=f\"Test (max_iter={mi})\")\n",
    "\n",
    "plt.xlim([min(c_values), max(c_values)])\n",
    "plt.ylim([0.0, 1.1])\n",
    "plt.xlabel(\"Value of C\")\n",
    "plt.ylabel(\"Accuracy\")\n",
    "plt.legend(loc=4, borderpad=1)\n",
    "plt.title(\"Effect of C and max_iter on training and test set accuracy\", fontsize=10)\n",
    "plt.show()"
   ],
   "id": "e29ab46290f62f6d",
   "outputs": [
    {
     "data": {
      "text/plain": [
       "<Figure size 1000x600 with 1 Axes>"
      ],
      "image/png": "[encoded data removed]"
     },
     "metadata": {},
     "output_type": "display_data"
    }
   ],
   "execution_count": 26
  }
 ],
 "metadata": {
  "kernelspec": {
   "display_name": "Python 3",
   "language": "python",
   "name": "python3"
  },
  "language_info": {
   "codemirror_mode": {
    "name": "ipython",
    "version": 2
   },
   "file_extension": ".py",
   "mimetype": "text/x-python",
   "name": "python",
   "nbconvert_exporter": "python",
   "pygments_lexer": "ipython2",
   "version": "2.7.6"
  }
 },
 "nbformat": 4,
 "nbformat_minor": 5
}
