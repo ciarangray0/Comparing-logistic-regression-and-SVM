{
 "cells": [
  {
   "metadata": {},
   "cell_type": "markdown",
   "source": [
    "In this worked notebook file,the Logistic Regression algorithm is applied to a dataset called wildfires.\n",
    "\n",
    "The dataset has already been split into two different sets: one for training (wildfires_training.csv) and one for testing (wildfires_test.csv)\n",
    "\n",
    "The dependent variable that we are trying to predict is fire, which can be one of 2 classes: yes or no."
   ],
   "id": "b63c73228a9f5b43"
  },
  {
   "metadata": {
    "ExecuteTime": {
     "end_time": "2025-09-28T12:46:11.335899Z",
     "start_time": "2025-09-28T12:46:09.571063Z"
    }
   },
   "cell_type": "code",
   "source": [
    "import pandas as pd\n",
    "\n",
    "# details for beer dataset\n",
    "training_file = \"wildfires_training.csv\"\n",
    "test_file = \"wildfires_test.csv\"\n",
    "independent_cols = [\"year\", \"temp\", \"humidity\", \"rainfall\", \"drought_code\", \"buildup_index\", \"day\", \"month\", \"wind_speed\"]\n",
    "\n",
    "dependent_col = \"fire\"\n",
    "\n",
    "# Here we load our training dataset in from the training file using the pandas library\n",
    "df_training = pd.read_csv(training_file)\n",
    "print(df_training.head())\n",
    "print(df_training.shape)"
   ],
   "id": "e5e7fc021d5d685f",
   "outputs": [
    {
     "name": "stdout",
     "output_type": "stream",
     "text": [
      "  fire  year  temp  humidity  rainfall  drought_code  buildup_index  day  \\\n",
      "0   no  2015    28        59       0.0          8.06           3.47    1   \n",
      "1   no  2010    30        61       1.3          8.17           4.03    2   \n",
      "2   no  2009    26        83      13.1          8.08           3.59    3   \n",
      "3   no  2017    25        87       2.5          7.18           2.42    4   \n",
      "4   no  2014    28        77       0.0         14.98           4.63    5   \n",
      "\n",
      "   month  wind_speed  \n",
      "0      6          19  \n",
      "1      6          13  \n",
      "2      6          22  \n",
      "3      6          15  \n",
      "4      6          18  \n",
      "(154, 10)\n"
     ]
    }
   ],
   "execution_count": 2
  },
  {
   "metadata": {
    "ExecuteTime": {
     "end_time": "2025-09-28T12:46:21.864876Z",
     "start_time": "2025-09-28T12:46:21.832048Z"
    }
   },
   "cell_type": "code",
   "source": [
    "# set up a matrix X containing the independent variables from the training data\n",
    "X_training = df_training.loc[:,independent_cols]\n",
    "print(X_training.head())\n",
    "print(X_training.shape)"
   ],
   "id": "bfa3233e2de44c8",
   "outputs": [
    {
     "name": "stdout",
     "output_type": "stream",
     "text": [
      "   year  temp  humidity  rainfall  drought_code  buildup_index  day  month  \\\n",
      "0  2015    28        59       0.0          8.06           3.47    1      6   \n",
      "1  2010    30        61       1.3          8.17           4.03    2      6   \n",
      "2  2009    26        83      13.1          8.08           3.59    3      6   \n",
      "3  2017    25        87       2.5          7.18           2.42    4      6   \n",
      "4  2014    28        77       0.0         14.98           4.63    5      6   \n",
      "\n",
      "   wind_speed  \n",
      "0          19  \n",
      "1          13  \n",
      "2          22  \n",
      "3          15  \n",
      "4          18  \n",
      "(154, 9)\n"
     ]
    }
   ],
   "execution_count": 3
  },
  {
   "metadata": {
    "ExecuteTime": {
     "end_time": "2025-09-28T12:46:32.650836Z",
     "start_time": "2025-09-28T12:46:32.635856Z"
    }
   },
   "cell_type": "code",
   "source": [
    "# Set up a vector y containing the dependent variable / target attribute for the training data\n",
    "y_training = df_training.loc[:,dependent_col]\n",
    "print(y_training.head())\n",
    "print(y_training.shape)"
   ],
   "id": "4c6008f1ec2d3166",
   "outputs": [
    {
     "name": "stdout",
     "output_type": "stream",
     "text": [
      "0    no\n",
      "1    no\n",
      "2    no\n",
      "3    no\n",
      "4    no\n",
      "Name: fire, dtype: object\n",
      "(154,)\n"
     ]
    }
   ],
   "execution_count": 4
  },
  {
   "metadata": {
    "ExecuteTime": {
     "end_time": "2025-09-28T12:47:19.698096Z",
     "start_time": "2025-09-28T12:47:19.656681Z"
    }
   },
   "cell_type": "code",
   "source": [
    "# Next we load our test dataset in from the file iris_test.csv\n",
    "df_test = pd.read_csv(test_file)\n",
    "print(df_test.head())\n",
    "print(df_test.shape)"
   ],
   "id": "ab1031a8c2d9a447",
   "outputs": [
    {
     "name": "stdout",
     "output_type": "stream",
     "text": [
      "  fire  year  temp  humidity  rainfall  drought_code  buildup_index  day  \\\n",
      "0   no  2015    33        68       4.5          9.12           5.09   19   \n",
      "1  yes  2009    28        56       0.0         38.17          21.21   12   \n",
      "2   no  2017    30        64       0.6         15.38           6.24   24   \n",
      "3   no  2007    23        74       8.3          7.36           2.27   14   \n",
      "4   no  2017    31        72       0.3         30.47           5.63    7   \n",
      "\n",
      "   month  wind_speed  \n",
      "0      6          16  \n",
      "1      6          18  \n",
      "2      9          19  \n",
      "3      9          28  \n",
      "4      9          17  \n",
      "(50, 10)\n"
     ]
    }
   ],
   "execution_count": 5
  },
  {
   "metadata": {
    "ExecuteTime": {
     "end_time": "2025-09-28T12:47:49.102988Z",
     "start_time": "2025-09-28T12:47:49.066995Z"
    }
   },
   "cell_type": "code",
   "source": [
    "# set up a matrix X containing the independent variables from the test data\n",
    "X_test = df_test.loc[:,independent_cols]\n",
    "print(X_test.head())\n",
    "print(X_test.shape)"
   ],
   "id": "5118adc99eccca3c",
   "outputs": [
    {
     "name": "stdout",
     "output_type": "stream",
     "text": [
      "   year  temp  humidity  rainfall  drought_code  buildup_index  day  month  \\\n",
      "0  2015    33        68       4.5          9.12           5.09   19      6   \n",
      "1  2009    28        56       0.0         38.17          21.21   12      6   \n",
      "2  2017    30        64       0.6         15.38           6.24   24      9   \n",
      "3  2007    23        74       8.3          7.36           2.27   14      9   \n",
      "4  2017    31        72       0.3         30.47           5.63    7      9   \n",
      "\n",
      "   wind_speed  \n",
      "0          16  \n",
      "1          18  \n",
      "2          19  \n",
      "3          28  \n",
      "4          17  \n",
      "(50, 9)\n"
     ]
    }
   ],
   "execution_count": 6
  },
  {
   "metadata": {
    "ExecuteTime": {
     "end_time": "2025-09-28T12:47:57.841952Z",
     "start_time": "2025-09-28T12:47:57.825307Z"
    }
   },
   "cell_type": "code",
   "source": [
    "# Set up a vector y containing the dependent variable / target attribute for the training data\n",
    "y_test = df_test.loc[:,dependent_col]\n",
    "print(y_test.head())\n",
    "print(y_test.shape)"
   ],
   "id": "65f55ab0b1db86dc",
   "outputs": [
    {
     "name": "stdout",
     "output_type": "stream",
     "text": [
      "0     no\n",
      "1    yes\n",
      "2     no\n",
      "3     no\n",
      "4     no\n",
      "Name: fire, dtype: object\n",
      "(50,)\n"
     ]
    }
   ],
   "execution_count": 7
  },
  {
   "metadata": {
    "ExecuteTime": {
     "end_time": "2025-09-28T13:11:16.832134Z",
     "start_time": "2025-09-28T13:10:25.451311Z"
    }
   },
   "cell_type": "code",
   "source": [
    "from sklearn import metrics\n",
    "from sklearn.linear_model import LogisticRegression\n",
    "\n",
    "# create a logistic regression model using default settings\n",
    "model = LogisticRegression()\n",
    "model.fit(X_training, y_training)\n",
    "\n",
    "# compute predictions for training and test sets\n",
    "predictions_training = model.predict(X_training)\n",
    "predictions_test = model.predict(X_test)\n",
    "\n",
    "# compute accuracy for training and test sets\n",
    "accuracy_training = metrics.accuracy_score(y_training, predictions_training)\n",
    "accuracy_test = metrics.accuracy_score(y_test, predictions_test)\n",
    "\n",
    "print(\"Accuracy on training data:\", accuracy_training)\n",
    "print(\"Accuracy on test data:\", accuracy_test)"
   ],
   "id": "5d56b814406b3a6d",
   "outputs": [
    {
     "name": "stdout",
     "output_type": "stream",
     "text": [
      "Accuracy on training data: 0.8896103896103896\n",
      "Accuracy on test data: 0.9\n"
     ]
    },
    {
     "name": "stderr",
     "output_type": "stream",
     "text": [
      "/Users/ciarangray/Library/Python/3.9/lib/python/site-packages/sklearn/linear_model/_logistic.py:465: ConvergenceWarning: lbfgs failed to converge (status=1):\n",
      "STOP: TOTAL NO. of ITERATIONS REACHED LIMIT.\n",
      "\n",
      "Increase the number of iterations (max_iter) or scale the data as shown in:\n",
      "    https://scikit-learn.org/stable/modules/preprocessing.html\n",
      "Please also refer to the documentation for alternative solver options:\n",
      "    https://scikit-learn.org/stable/modules/linear_model.html#logistic-regression\n",
      "  n_iter_i = _check_optimize_result(\n"
     ]
    }
   ],
   "execution_count": 8
  }
 ],
 "metadata": {
  "kernelspec": {
   "display_name": "Python 3",
   "language": "python",
   "name": "python3"
  },
  "language_info": {
   "codemirror_mode": {
    "name": "ipython",
    "version": 2
   },
   "file_extension": ".py",
   "mimetype": "text/x-python",
   "name": "python",
   "nbconvert_exporter": "python",
   "pygments_lexer": "ipython2",
   "version": "2.7.6"
  }
 },
 "nbformat": 4,
 "nbformat_minor": 5
}
